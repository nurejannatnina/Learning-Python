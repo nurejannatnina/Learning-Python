{
  "nbformat": 4,
  "nbformat_minor": 0,
  "metadata": {
    "colab": {
      "provenance": [],
      "authorship_tag": "ABX9TyNzcDaTH2UJ3d9GEq58VduK",
      "include_colab_link": true
    },
    "kernelspec": {
      "name": "python3",
      "display_name": "Python 3"
    },
    "language_info": {
      "name": "python"
    }
  },
  "cells": [
    {
      "cell_type": "markdown",
      "metadata": {
        "id": "view-in-github",
        "colab_type": "text"
      },
      "source": [
        "<a href=\"https://colab.research.google.com/github/nurejannatnina/Learning-Python/blob/main/firstcode.ipynb\" target=\"_parent\"><img src=\"https://colab.research.google.com/assets/colab-badge.svg\" alt=\"Open In Colab\"/></a>"
      ]
    },
    {
      "cell_type": "code",
      "execution_count": null,
      "metadata": {
        "colab": {
          "base_uri": "https://localhost:8080/"
        },
        "id": "tkdsVbyoRgS0",
        "outputId": "6049652e-5563-425f-ab01-49bdb9a3dc81"
      },
      "outputs": [
        {
          "output_type": "stream",
          "name": "stdout",
          "text": [
            "Hello , I am Nina. \n",
            " Now i'm learning Python.\n"
          ]
        }
      ],
      "source": [
        "print(\"Hello , I am Nina. \\n Now i'm learning Python.\")"
      ]
    },
    {
      "cell_type": "code",
      "source": [
        "dept_name = \"EEE\"\n",
        "print(\"before\" , dept_name)\n",
        "\n",
        "dept_name = \"CSE\"\n",
        "print(\"after\", dept_name)"
      ],
      "metadata": {
        "colab": {
          "base_uri": "https://localhost:8080/"
        },
        "id": "UOSAKZZIaHoM",
        "outputId": "4fd7208b-cc2d-4aa8-e375-1e2bc58f5a4d"
      },
      "execution_count": null,
      "outputs": [
        {
          "output_type": "stream",
          "name": "stdout",
          "text": [
            "before EEE\n",
            "after CSE\n"
          ]
        }
      ]
    },
    {
      "cell_type": "code",
      "source": [
        "from re import A\n",
        "Fruits = [\"mango\",\"apple\",\"watermelon\",\"strawberry\"] # list literal\n",
        "print(Fruits)\n",
        "numbers = (1,2,3,4)#tuple literal\n",
        "print(numbers)\n",
        "\n",
        "Alphabets = {'a':'apple', 'b':'ball', 'c':'cat'} # dictionary literal\n",
        "print(Alphabets)\n",
        "\n",
        "Vowels = {'a', 'e', 'i', 'o', 'u',} # set literal\n",
        "print(Vowels)\n"
      ],
      "metadata": {
        "colab": {
          "base_uri": "https://localhost:8080/"
        },
        "id": "VhSeswDufIyM",
        "outputId": "c6738b4b-531c-4743-87f5-1fa34b0dcfcc"
      },
      "execution_count": null,
      "outputs": [
        {
          "output_type": "stream",
          "name": "stdout",
          "text": [
            "['mango', 'apple', 'watermelon', 'strawberry']\n",
            "(1, 2, 3, 4)\n",
            "{'a': 'apple', 'b': 'ball', 'c': 'cat'}\n",
            "{'o', 'i', 'u', 'e', 'a'}\n"
          ]
        }
      ]
    },
    {
      "cell_type": "code",
      "source": [
        "number = int(input('Enter a number:'))\n",
        "\n",
        "# check if number is greater than 0\n",
        "if number > 0:\n",
        "  print(f'{number} is a positive number.')\n",
        "print('A statement outside the if statement.')"
      ],
      "metadata": {
        "colab": {
          "base_uri": "https://localhost:8080/"
        },
        "id": "X6XTGi2YMzBF",
        "outputId": "df11eb54-3eee-4b9a-fda8-292620d28223"
      },
      "execution_count": null,
      "outputs": [
        {
          "output_type": "stream",
          "name": "stdout",
          "text": [
            "Enter a number:5\n",
            "5 is a positive number.\n",
            "A statement outside the if statement.\n"
          ]
        }
      ]
    },
    {
      "cell_type": "code",
      "source": [
        "#user theke input niye check krbo 20 thke boro ki na?\n",
        "number =int(input('Enter a number : '))\n",
        "if number > 20:\n",
        "  print(f'{number} is a bigger number than 20')\n",
        "else:\n",
        "  print(f'{number} is a smallar number than 20')\n",
        "print( 'outside of if statement ')"
      ],
      "metadata": {
        "colab": {
          "base_uri": "https://localhost:8080/"
        },
        "id": "BcRQBb3sPSKw",
        "outputId": "22e92926-a514-4e4f-e371-c929a7274be2"
      },
      "execution_count": 21,
      "outputs": [
        {
          "output_type": "stream",
          "name": "stdout",
          "text": [
            "Enter a number : 25\n",
            "25 is a bigger number than 20\n",
            "outside of if statement \n"
          ]
        }
      ]
    },
    {
      "cell_type": "code",
      "source": [
        "languages=['swift','pythobn','go','dart']\n",
        "#for i==0; i<10; i++{}\n",
        "for lang in languages:\n",
        "  print(lang)\n",
        "  print(\"---------\")\n",
        "\n",
        "print(\"last statement\")\n"
      ],
      "metadata": {
        "colab": {
          "base_uri": "https://localhost:8080/"
        },
        "id": "cyMU-VBrYWj9",
        "outputId": "480a3acc-75d7-41bf-cd38-19616d34d866"
      },
      "execution_count": 25,
      "outputs": [
        {
          "output_type": "stream",
          "name": "stdout",
          "text": [
            "swift\n",
            "---------\n",
            "pythobn\n",
            "---------\n",
            "go\n",
            "---------\n",
            "dart\n",
            "---------\n",
            "last statement\n"
          ]
        }
      ]
    },
    {
      "cell_type": "code",
      "source": [
        "num=int(input('Enter num: '))\n",
        "for i in range(0,11):\n",
        "  print(f'{num} X {i} = {num * i}')"
      ],
      "metadata": {
        "colab": {
          "base_uri": "https://localhost:8080/"
        },
        "id": "VJBobXcya_7n",
        "outputId": "842782b3-018f-4e7f-a697-68bf166dd455"
      },
      "execution_count": 28,
      "outputs": [
        {
          "output_type": "stream",
          "name": "stdout",
          "text": [
            "Enter num: 5\n",
            "5 X 0 = 0\n",
            "5 X 1 = 5\n",
            "5 X 2 = 10\n",
            "5 X 3 = 15\n",
            "5 X 4 = 20\n",
            "5 X 5 = 25\n",
            "5 X 6 = 30\n",
            "5 X 7 = 35\n",
            "5 X 8 = 40\n",
            "5 X 9 = 45\n",
            "5 X 10 = 50\n"
          ]
        }
      ]
    },
    {
      "cell_type": "code",
      "source": [
        "import random\n",
        "print(random.randrange(10, 20))\n",
        "\n",
        "list1 = ['a', 'b', 'c', 'd', 'e']\n",
        "\n",
        "# get random item from list1\n",
        "print(random.choice(list1))\n",
        "\n",
        "# shuffle list1\n",
        "random.shuffle(list1)\n",
        "\n",
        "# print the shuffled list1\n",
        "print(list1)\n",
        "\n",
        "# print random element\n",
        "print(random.random())"
      ],
      "metadata": {
        "colab": {
          "base_uri": "https://localhost:8080/"
        },
        "id": "wDNWB4ITeFvv",
        "outputId": "528db523-9d68-4478-defb-11073b9a1f70"
      },
      "execution_count": 29,
      "outputs": [
        {
          "output_type": "stream",
          "name": "stdout",
          "text": [
            "14\n",
            "d\n",
            "['b', 'a', 'c', 'd', 'e']\n",
            "0.0013155218766268684\n"
          ]
        }
      ]
    },
    {
      "cell_type": "code",
      "source": [
        "my_list = ['p', 'r', 'o', 'g', 'r','a', 'm', 'n', 'd']\n",
        "\n",
        "# items from index 2 to index 4\n",
        "print(my_list[2:5])\n",
        "\n",
        "# items from index 5 to end\n",
        "print(my_list[5:])\n",
        "\n",
        "# items beginning to end\n",
        "print(my_list[:])"
      ],
      "metadata": {
        "colab": {
          "base_uri": "https://localhost:8080/"
        },
        "id": "06ZfCE6yksJD",
        "outputId": "a93de72e-39fb-4289-8cdc-b1ce217272be"
      },
      "execution_count": 31,
      "outputs": [
        {
          "output_type": "stream",
          "name": "stdout",
          "text": [
            "['o', 'g', 'r']\n",
            "['a', 'm', 'n', 'd']\n",
            "['p', 'r', 'o', 'g', 'r', 'a', 'm', 'n', 'd']\n"
          ]
        }
      ]
    },
    {
      "cell_type": "code",
      "source": [
        "country_capitals = {\n",
        " \"United State\": \"Washington D.C \",\n",
        " \"Italy\": \"Rome\"\n",
        "}\n",
        "\n",
        "# print dictionary keys one by one\n",
        "for country in country_capitals:\n",
        "    print(country)\n",
        "\n",
        "    print()\n",
        "\n",
        "# print dictionary values one by one\n",
        "for country in country_capitals:\n",
        "     capital = country_capitals[country]\n",
        "     print(capital)\n"
      ],
      "metadata": {
        "colab": {
          "base_uri": "https://localhost:8080/"
        },
        "id": "rh6y62q8sOSO",
        "outputId": "cf2affbf-661b-4ad2-ffa4-f0f793f431d2"
      },
      "execution_count": 36,
      "outputs": [
        {
          "output_type": "stream",
          "name": "stdout",
          "text": [
            "United State\n",
            "\n",
            "Italy\n",
            "\n",
            "Washington D.C \n",
            "Rome\n"
          ]
        }
      ]
    },
    {
      "cell_type": "code",
      "source": [
        "country_capitals = {\"England\": \"London\", \"Italy\": \"Rome\"}\n",
        "\n",
        "# get dictionary's length\n",
        "print(len(country_capitals))\n",
        "\n",
        "numbers = {10: \"ten\", 20: \"twenty\", 30: \"thirty\"}\n",
        "\n",
        "# get dictionary's length\n",
        "print(len(numbers))\n",
        "\n",
        "\n",
        "countries = {}\n",
        "\n",
        "# get dictionary's length\n",
        "print(len(countries))"
      ],
      "metadata": {
        "colab": {
          "base_uri": "https://localhost:8080/"
        },
        "id": "Pgzy5LsfvvTn",
        "outputId": "1ce3ba8f-c796-4972-a927-424a1c359f5d"
      },
      "execution_count": 38,
      "outputs": [
        {
          "output_type": "stream",
          "name": "stdout",
          "text": [
            "2\n",
            "3\n",
            "0\n"
          ]
        }
      ]
    }
  ]
}