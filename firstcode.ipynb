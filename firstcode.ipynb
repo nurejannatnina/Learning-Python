{
  "nbformat": 4,
  "nbformat_minor": 0,
  "metadata": {
    "colab": {
      "provenance": [],
      "authorship_tag": "ABX9TyN9QNpMxbjGVtuMhLV985+w",
      "include_colab_link": true
    },
    "kernelspec": {
      "name": "python3",
      "display_name": "Python 3"
    },
    "language_info": {
      "name": "python"
    }
  },
  "cells": [
    {
      "cell_type": "markdown",
      "metadata": {
        "id": "view-in-github",
        "colab_type": "text"
      },
      "source": [
        "<a href=\"https://colab.research.google.com/github/nurejannatnina/Learning-Python/blob/main/firstcode.ipynb\" target=\"_parent\"><img src=\"https://colab.research.google.com/assets/colab-badge.svg\" alt=\"Open In Colab\"/></a>"
      ]
    },
    {
      "cell_type": "code",
      "execution_count": 2,
      "metadata": {
        "colab": {
          "base_uri": "https://localhost:8080/"
        },
        "id": "tkdsVbyoRgS0",
        "outputId": "6b04668d-7eeb-4842-85a8-85002fa3920c"
      },
      "outputs": [
        {
          "output_type": "stream",
          "name": "stdout",
          "text": [
            "Hello , I am Nina. \n",
            " Now i'm learning Python.\n"
          ]
        }
      ],
      "source": [
        "print(\"Hello , I am Nina. \\n Now i'm learning Python.\")"
      ]
    },
    {
      "cell_type": "code",
      "source": [
        "dept_name = \"EEE\"\n",
        "print(\"before\" , dept_name)\n",
        "\n",
        "dept_name = \"CSE\"\n",
        "print(\"after\", dept_name)"
      ],
      "metadata": {
        "colab": {
          "base_uri": "https://localhost:8080/"
        },
        "id": "UOSAKZZIaHoM",
        "outputId": "4fd7208b-cc2d-4aa8-e375-1e2bc58f5a4d"
      },
      "execution_count": 8,
      "outputs": [
        {
          "output_type": "stream",
          "name": "stdout",
          "text": [
            "before EEE\n",
            "after CSE\n"
          ]
        }
      ]
    },
    {
      "cell_type": "code",
      "source": [],
      "metadata": {
        "id": "VhSeswDufIyM"
      },
      "execution_count": null,
      "outputs": []
    }
  ]
}