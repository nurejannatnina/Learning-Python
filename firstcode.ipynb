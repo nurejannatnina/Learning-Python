{
  "nbformat": 4,
  "nbformat_minor": 0,
  "metadata": {
    "colab": {
      "provenance": [],
      "authorship_tag": "ABX9TyML5qe/Gz6/foMbGpmDRHxt",
      "include_colab_link": true
    },
    "kernelspec": {
      "name": "python3",
      "display_name": "Python 3"
    },
    "language_info": {
      "name": "python"
    }
  },
  "cells": [
    {
      "cell_type": "markdown",
      "metadata": {
        "id": "view-in-github",
        "colab_type": "text"
      },
      "source": [
        "<a href=\"https://colab.research.google.com/github/nurejannatnina/Learning-Python/blob/main/firstcode.ipynb\" target=\"_parent\"><img src=\"https://colab.research.google.com/assets/colab-badge.svg\" alt=\"Open In Colab\"/></a>"
      ]
    },
    {
      "cell_type": "code",
      "execution_count": 15,
      "metadata": {
        "colab": {
          "base_uri": "https://localhost:8080/"
        },
        "id": "tkdsVbyoRgS0",
        "outputId": "6049652e-5563-425f-ab01-49bdb9a3dc81"
      },
      "outputs": [
        {
          "output_type": "stream",
          "name": "stdout",
          "text": [
            "Hello , I am Nina. \n",
            " Now i'm learning Python.\n"
          ]
        }
      ],
      "source": [
        "print(\"Hello , I am Nina. \\n Now i'm learning Python.\")"
      ]
    },
    {
      "cell_type": "code",
      "source": [
        "dept_name = \"EEE\"\n",
        "print(\"before\" , dept_name)\n",
        "\n",
        "dept_name = \"CSE\"\n",
        "print(\"after\", dept_name)"
      ],
      "metadata": {
        "colab": {
          "base_uri": "https://localhost:8080/"
        },
        "id": "UOSAKZZIaHoM",
        "outputId": "4fd7208b-cc2d-4aa8-e375-1e2bc58f5a4d"
      },
      "execution_count": null,
      "outputs": [
        {
          "output_type": "stream",
          "name": "stdout",
          "text": [
            "before EEE\n",
            "after CSE\n"
          ]
        }
      ]
    },
    {
      "cell_type": "code",
      "source": [
        "from re import A\n",
        "Fruits = [\"mango\",\"apple\",\"watermelon\",\"strawberry\"] # list literal\n",
        "print(Fruits)\n",
        "numbers = (1,2,3,4)#tuple literal\n",
        "print(numbers)\n",
        "\n",
        "Alphabets = {'a':'apple', 'b':'ball', 'c':'cat'} # dictionary literal\n",
        "print(Alphabets)\n",
        "\n",
        "Vowels = {'a', 'e', 'i', 'o', 'u',} # set literal\n",
        "print(Vowels)\n"
      ],
      "metadata": {
        "colab": {
          "base_uri": "https://localhost:8080/"
        },
        "id": "VhSeswDufIyM",
        "outputId": "c6738b4b-531c-4743-87f5-1fa34b0dcfcc"
      },
      "execution_count": null,
      "outputs": [
        {
          "output_type": "stream",
          "name": "stdout",
          "text": [
            "['mango', 'apple', 'watermelon', 'strawberry']\n",
            "(1, 2, 3, 4)\n",
            "{'a': 'apple', 'b': 'ball', 'c': 'cat'}\n",
            "{'o', 'i', 'u', 'e', 'a'}\n"
          ]
        }
      ]
    }
  ]
}